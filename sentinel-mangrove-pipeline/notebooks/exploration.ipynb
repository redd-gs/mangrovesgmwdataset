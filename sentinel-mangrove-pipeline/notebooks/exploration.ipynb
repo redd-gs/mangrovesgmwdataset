{
    "cells": [
        {
            "cell_type": "code",
            "metadata": {
                "language": "python"
            },
            "source": [
                "import os",
                "from pathlib import Path",
                "from datetime import datetime, timedelta, timezone",
                "from sentinelhub import (",
                "    SHConfig, BBox, CRS, MimeType, SentinelHubRequest, SentinelHubSession,",
                "    DataCollection, bbox_to_dimensions, SentinelHubCatalog)",
                "from PIL import Image",
                "import geopandas as gpd",
                "import numpy as np",
                "from shapely.geometry import shape, box",
                "from sqlalchemy import create_engine, text",
                "from src.config.settings import Config",
                "from src.sentinel.auth import sh_config",
                "from src.sentinel.catalog_search import search_images",
                "from src.sentinel.download import download_image",
                "from src.processing.enhancements import enhance_image",
                "from src.processing.bbox import create_valid_bbox",
                "from src.db.connection import create_db_engine",
                "import matplotlib.pyplot as plt"
            ]
        },
        {
            "cell_type": "code",
            "metadata": {
                "language": "python"
            },
            "source": [
                "def main():",
                "    print(\"🚀 Démarrage de l'exploration des données Sentinel-2\")",
                "    cfg = sh_config()",
                "    catalog = SentinelHubCatalog(config=cfg)",
                "    print(\"✅ Connexion à Sentinel Hub réussie!\")",
                "",
                "    engine = create_db_engine()",
                "    samples = get_sample_geometries(engine, Config.MAX_PATCHES)",
                "",
                "    if not samples:",
                "        print(\"❌ Aucune géométrie trouvée!\")",
                "        return",
                "",
                "    gid, geom = samples[0]",
                "    print(f\"\\n🔍 Traitement de la zone {gid}\")",
                "",
                "    bbox = create_valid_bbox(geom, Config.PATCH_SIZE_M)",
                "    if not bbox:",
                "        return",
                "",
                "    time_interval = format_time_interval(Config.TIME_INTERVAL)",
                "    print(f\"🕒 Période formatée: {time_interval}\")",
                "",
                "    images = search_images(catalog, bbox, time_interval, Config.MAX_CLOUD_COVER)",
                "    if not images:",
                "        print(\"\\n⚠️ Aucune image disponible pour cette zone/date.\")",
                "        return",
                "",
                "    for image in images:",
                "        output_file = Config.OUTPUT_DIR / f\"mangrove_{gid}_{image['properties']['datetime']}.png\"",
                "        success = download_image(cfg, bbox, time_interval, output_file)",
                "        if success:",
                "            print(f\"✅ Image téléchargée: {output_file}\")",
                "            enhanced_image = enhance_image(output_file)",
                "            plt.imshow(enhanced_image)",
                "            plt.title(f'Image améliorée pour {gid}')",
                "            plt.show()",
                "        else:",
                "            print(\"❌ Échec du téléchargement.\")",
                "",
                "if __name__ == '__main__':",
                "    main()"
            ]
        }
    ]
}